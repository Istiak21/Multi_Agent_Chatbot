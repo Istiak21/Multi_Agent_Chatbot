{
 "cells": [
  {
   "cell_type": "code",
   "execution_count": 1,
   "id": "1df5affa-ce47-49e2-8a9f-e1e7cddab624",
   "metadata": {},
   "outputs": [],
   "source": [
    "from together import Together\n",
    "\n",
    "with open(\"together_api_key.txt\", \"r\") as f:\n",
    "    TOGETHER_API_KEY = f.read().strip()\n",
    "\n",
    "\n",
    "client = Together(api_key=TOGETHER_API_KEY)"
   ]
  },
  {
   "cell_type": "code",
   "execution_count": 2,
   "id": "13472440-51f9-41f2-bc1d-b8ed30d39821",
   "metadata": {},
   "outputs": [],
   "source": [
    "import streamlit as st\n",
    "from autogen import AssistantAgent, UserProxyAgent, GroupChat, GroupChatManager\n",
    "import warnings\n",
    "warnings.filterwarnings(\"ignore\")\n",
    "\n",
    "st.set_page_config(page_title=\"🧠 Multi-Agent AI Assistant\", layout=\"centered\")\n",
    "\n",
    "\n",
    "config_list = [\n",
    "    {\n",
    "        \"model\": \"meta-llama/Llama-3.3-70B-Instruct-Turbo-Free\",\n",
    "        \"api_key\": TOGETHER_API_KEY,\n",
    "        \"base_url\": \"https://api.together.xyz/v1\",\n",
    "    }\n",
    "]"
   ]
  },
  {
   "cell_type": "code",
   "execution_count": 3,
   "id": "71476910-e825-4257-abd9-675eb09d31b6",
   "metadata": {},
   "outputs": [
    {
     "name": "stderr",
     "output_type": "stream",
     "text": [
      "2025-06-25 00:31:00.200 \n",
      "  \u001b[33m\u001b[1mWarning:\u001b[0m to view this Streamlit app on a browser, run it with the following\n",
      "  command:\n",
      "\n",
      "    streamlit run /home/istiak/anaconda3/lib/python3.12/site-packages/ipykernel_launcher.py [ARGUMENTS]\n"
     ]
    }
   ],
   "source": [
    "@st.cache_resource\n",
    "def init_agents():\n",
    "    analyzer = AssistantAgent(\n",
    "        name=\"QuestionAnalyzerAgent\",\n",
    "        system_message=\"You analyze the user's query and decide what it's about.\",\n",
    "        llm_config={\"config_list\": config_list}\n",
    "    )\n",
    "    knowledge = AssistantAgent(\n",
    "        name=\"KnowledgeAgent\",\n",
    "        system_message=\"You fetch and explain information based on the topic.\",\n",
    "        llm_config={\"config_list\": config_list}\n",
    "    )\n",
    "    formatter = AssistantAgent(\n",
    "        name=\"AnswerFormatterAgent\",\n",
    "        system_message=\"You convert the explanation into a friendly chatbot reply.\",\n",
    "        llm_config={\"config_list\": config_list}\n",
    "    )\n",
    "    code_writer = AssistantAgent(\n",
    "        name=\"CodeWriterAgent\",\n",
    "        system_message=\"You write Python code to solve problems described by the user or other agents.\",\n",
    "        llm_config={\"config_list\": config_list}\n",
    "    )\n",
    "    image_generator = AssistantAgent(\n",
    "        name=\"ImageGeneratorAgent\",\n",
    "        system_message=(\n",
    "            \"You create text descriptions of images based on the user's request. \"\n",
    "            \"Describe the scene in vivid detail as a prompt for an image generation model.\"\n",
    "        ),\n",
    "        llm_config={\"config_list\": config_list}\n",
    "    )\n",
    "    user_proxy = UserProxyAgent(\n",
    "        name=\"User\",\n",
    "        human_input_mode=\"NEVER\",  # Needed for non-interactive programmatic input\n",
    "        llm_config={\"config_list\": config_list}\n",
    "    )\n",
    "    groupchat = GroupChat(\n",
    "        agents=[user_proxy, analyzer, knowledge, formatter, code_writer, image_generator],\n",
    "        messages=[],\n",
    "        max_round=10,\n",
    "    )\n",
    "    manager = GroupChatManager(\n",
    "        groupchat=groupchat,\n",
    "        llm_config={\"config_list\": config_list}\n",
    "    )\n",
    "    return user_proxy, manager\n",
    "\n",
    "\n",
    "user_proxy, manager = init_agents()\n",
    "\n",
    "\n"
   ]
  },
  {
   "cell_type": "code",
   "execution_count": 4,
   "id": "ee549b1a-a9d4-497a-95f9-cdb66474274c",
   "metadata": {},
   "outputs": [
    {
     "name": "stderr",
     "output_type": "stream",
     "text": [
      "2025-06-25 00:31:11.949 Session state does not function when running a script without `streamlit run`\n"
     ]
    },
    {
     "ename": "AttributeError",
     "evalue": "st.session_state has no attribute \"chat_history\". Did you forget to initialize it? More info: https://docs.streamlit.io/library/advanced-features/session-state#initialization",
     "output_type": "error",
     "traceback": [
      "\u001b[31m---------------------------------------------------------------------------\u001b[39m",
      "\u001b[31mKeyError\u001b[39m                                  Traceback (most recent call last)",
      "\u001b[36mFile \u001b[39m\u001b[32m~/anaconda3/lib/python3.12/site-packages/streamlit/runtime/state/session_state.py:398\u001b[39m, in \u001b[36mSessionState.__getitem__\u001b[39m\u001b[34m(self, key)\u001b[39m\n\u001b[32m    397\u001b[39m \u001b[38;5;28;01mtry\u001b[39;00m:\n\u001b[32m--> \u001b[39m\u001b[32m398\u001b[39m     \u001b[38;5;28;01mreturn\u001b[39;00m \u001b[38;5;28mself\u001b[39m._getitem(widget_id, key)\n\u001b[32m    399\u001b[39m \u001b[38;5;28;01mexcept\u001b[39;00m \u001b[38;5;167;01mKeyError\u001b[39;00m:\n",
      "\u001b[36mFile \u001b[39m\u001b[32m~/anaconda3/lib/python3.12/site-packages/streamlit/runtime/state/session_state.py:443\u001b[39m, in \u001b[36mSessionState._getitem\u001b[39m\u001b[34m(self, widget_id, user_key)\u001b[39m\n\u001b[32m    442\u001b[39m \u001b[38;5;66;03m# We'll never get here\u001b[39;00m\n\u001b[32m--> \u001b[39m\u001b[32m443\u001b[39m \u001b[38;5;28;01mraise\u001b[39;00m \u001b[38;5;167;01mKeyError\u001b[39;00m\n",
      "\u001b[31mKeyError\u001b[39m: ",
      "\nDuring handling of the above exception, another exception occurred:\n",
      "\u001b[31mKeyError\u001b[39m                                  Traceback (most recent call last)",
      "\u001b[36mFile \u001b[39m\u001b[32m~/anaconda3/lib/python3.12/site-packages/streamlit/runtime/state/session_state_proxy.py:119\u001b[39m, in \u001b[36mSessionStateProxy.__getattr__\u001b[39m\u001b[34m(self, key)\u001b[39m\n\u001b[32m    118\u001b[39m \u001b[38;5;28;01mtry\u001b[39;00m:\n\u001b[32m--> \u001b[39m\u001b[32m119\u001b[39m     \u001b[38;5;28;01mreturn\u001b[39;00m \u001b[38;5;28mself\u001b[39m[key]\n\u001b[32m    120\u001b[39m \u001b[38;5;28;01mexcept\u001b[39;00m \u001b[38;5;167;01mKeyError\u001b[39;00m:\n",
      "\u001b[36mFile \u001b[39m\u001b[32m~/anaconda3/lib/python3.12/site-packages/streamlit/runtime/state/session_state_proxy.py:90\u001b[39m, in \u001b[36mSessionStateProxy.__getitem__\u001b[39m\u001b[34m(self, key)\u001b[39m\n\u001b[32m     89\u001b[39m require_valid_user_key(key)\n\u001b[32m---> \u001b[39m\u001b[32m90\u001b[39m \u001b[38;5;28;01mreturn\u001b[39;00m get_session_state()[key]\n",
      "\u001b[36mFile \u001b[39m\u001b[32m~/anaconda3/lib/python3.12/site-packages/streamlit/runtime/state/safe_session_state.py:93\u001b[39m, in \u001b[36mSafeSessionState.__getitem__\u001b[39m\u001b[34m(self, key)\u001b[39m\n\u001b[32m     92\u001b[39m \u001b[38;5;28;01mwith\u001b[39;00m \u001b[38;5;28mself\u001b[39m._lock:\n\u001b[32m---> \u001b[39m\u001b[32m93\u001b[39m     \u001b[38;5;28;01mreturn\u001b[39;00m \u001b[38;5;28mself\u001b[39m._state[key]\n",
      "\u001b[36mFile \u001b[39m\u001b[32m~/anaconda3/lib/python3.12/site-packages/streamlit/runtime/state/session_state.py:400\u001b[39m, in \u001b[36mSessionState.__getitem__\u001b[39m\u001b[34m(self, key)\u001b[39m\n\u001b[32m    399\u001b[39m \u001b[38;5;28;01mexcept\u001b[39;00m \u001b[38;5;167;01mKeyError\u001b[39;00m:\n\u001b[32m--> \u001b[39m\u001b[32m400\u001b[39m     \u001b[38;5;28;01mraise\u001b[39;00m \u001b[38;5;167;01mKeyError\u001b[39;00m(_missing_key_error_message(key))\n",
      "\u001b[31mKeyError\u001b[39m: 'st.session_state has no key \"chat_history\". Did you forget to initialize it? More info: https://docs.streamlit.io/library/advanced-features/session-state#initialization'",
      "\nDuring handling of the above exception, another exception occurred:\n",
      "\u001b[31mAttributeError\u001b[39m                            Traceback (most recent call last)",
      "\u001b[36mCell\u001b[39m\u001b[36m \u001b[39m\u001b[32mIn[4]\u001b[39m\u001b[32m, line 11\u001b[39m\n\u001b[32m      6\u001b[39m     st.session_state.chat_history = [\n\u001b[32m      7\u001b[39m         {\u001b[33m\"\u001b[39m\u001b[33mrole\u001b[39m\u001b[33m\"\u001b[39m: \u001b[33m\"\u001b[39m\u001b[33massistant\u001b[39m\u001b[33m\"\u001b[39m, \u001b[33m\"\u001b[39m\u001b[33mcontent\u001b[39m\u001b[33m\"\u001b[39m: \u001b[33m\"\u001b[39m\u001b[33mHello! How can I help you today?\u001b[39m\u001b[33m\"\u001b[39m}\n\u001b[32m      8\u001b[39m     ]\n\u001b[32m     10\u001b[39m \u001b[38;5;66;03m# Show previous messages\u001b[39;00m\n\u001b[32m---> \u001b[39m\u001b[32m11\u001b[39m \u001b[38;5;28;01mfor\u001b[39;00m msg \u001b[38;5;129;01min\u001b[39;00m st.session_state.chat_history:\n\u001b[32m     12\u001b[39m     \u001b[38;5;28;01mwith\u001b[39;00m st.chat_message(msg[\u001b[33m\"\u001b[39m\u001b[33mrole\u001b[39m\u001b[33m\"\u001b[39m]):\n\u001b[32m     13\u001b[39m         st.markdown(msg[\u001b[33m\"\u001b[39m\u001b[33mcontent\u001b[39m\u001b[33m\"\u001b[39m])\n",
      "\u001b[36mFile \u001b[39m\u001b[32m~/anaconda3/lib/python3.12/site-packages/streamlit/runtime/state/session_state_proxy.py:121\u001b[39m, in \u001b[36mSessionStateProxy.__getattr__\u001b[39m\u001b[34m(self, key)\u001b[39m\n\u001b[32m    119\u001b[39m     \u001b[38;5;28;01mreturn\u001b[39;00m \u001b[38;5;28mself\u001b[39m[key]\n\u001b[32m    120\u001b[39m \u001b[38;5;28;01mexcept\u001b[39;00m \u001b[38;5;167;01mKeyError\u001b[39;00m:\n\u001b[32m--> \u001b[39m\u001b[32m121\u001b[39m     \u001b[38;5;28;01mraise\u001b[39;00m \u001b[38;5;167;01mAttributeError\u001b[39;00m(_missing_attr_error_message(key))\n",
      "\u001b[31mAttributeError\u001b[39m: st.session_state has no attribute \"chat_history\". Did you forget to initialize it? More info: https://docs.streamlit.io/library/advanced-features/session-state#initialization"
     ]
    }
   ],
   "source": [
    "st.title(\"🤖 Multi-Agent Chatbot\")\n",
    "st.markdown(\"Ask me anything!\")\n",
    "\n",
    "# Initialize chat history\n",
    "if \"chat_history\" not in st.session_state:\n",
    "    st.session_state.chat_history = [\n",
    "        {\"role\": \"assistant\", \"content\": \"Hello! How can I help you today?\"}\n",
    "    ]\n",
    "\n",
    "# Show previous messages\n",
    "for msg in st.session_state.chat_history:\n",
    "    with st.chat_message(msg[\"role\"]):\n",
    "        st.markdown(msg[\"content\"])\n",
    "\n",
    "# Get user input\n",
    "if user_prompt := st.chat_input(\"Type your message here...\"):\n",
    "    # Display user message\n",
    "    st.session_state.chat_history.append({\"role\": \"user\", \"content\": user_prompt})\n",
    "    with st.chat_message(\"user\"):\n",
    "        st.markdown(user_prompt)\n",
    "\n",
    "    # Run AutoGen\n",
    "    with st.chat_message(\"assistant\"):\n",
    "        with st.spinner(\"Thinking...\"):\n",
    "            user_proxy.initiate_chat(manager, message=user_prompt)\n",
    "\n",
    "            # 🧠 Extract last meaningful agent message (excluding user and repeats)\n",
    "            reply = None\n",
    "            for msg in reversed(manager.groupchat.messages):\n",
    "                if msg[\"name\"] != \"User\":\n",
    "                    reply = f\"{msg['name']}: {msg['content']}\"\n",
    "                    break\n",
    "\n",
    "            if reply:\n",
    "                st.markdown(reply)\n",
    "                st.session_state.chat_history.append({\"role\": \"assistant\", \"content\": reply})\n",
    "            else:\n",
    "                st.markdown(\"Hmm... I couldn't come up with an answer.\")"
   ]
  },
  {
   "cell_type": "code",
   "execution_count": null,
   "id": "73402aa3-c27c-44af-a2d1-87f6eb1a510b",
   "metadata": {},
   "outputs": [],
   "source": []
  }
 ],
 "metadata": {
  "kernelspec": {
   "display_name": "Python 3 (ipykernel)",
   "language": "python",
   "name": "python3"
  },
  "language_info": {
   "codemirror_mode": {
    "name": "ipython",
    "version": 3
   },
   "file_extension": ".py",
   "mimetype": "text/x-python",
   "name": "python",
   "nbconvert_exporter": "python",
   "pygments_lexer": "ipython3",
   "version": "3.12.2"
  }
 },
 "nbformat": 4,
 "nbformat_minor": 5
}
